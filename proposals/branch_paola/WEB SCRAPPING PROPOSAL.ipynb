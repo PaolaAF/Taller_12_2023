{
 "cells": [
  {
   "cell_type": "markdown",
   "id": "77706f78",
   "metadata": {},
   "source": [
    "## QALI WARMA WEB SCRAPPING"
   ]
  },
  {
   "cell_type": "markdown",
   "id": "5ea120c9",
   "metadata": {},
   "source": [
    "This code allows web scrapping to the Qali-Warma/ consulta amigable page. The main purpose is to obtain information about the contracting of goods and services; from the data here you can obtain important reflections on budget management."
   ]
  },
  {
   "cell_type": "markdown",
   "id": "5d2be527",
   "metadata": {},
   "source": [
    "Auhtor: Paola Aranda Flores"
   ]
  },
  {
   "cell_type": "markdown",
   "id": "92263623",
   "metadata": {},
   "source": [
    "### 1.1 Installing the necessary libraries"
   ]
  },
  {
   "cell_type": "code",
   "execution_count": null,
   "id": "9b0c9869",
   "metadata": {},
   "outputs": [],
   "source": []
  }
 ],
 "metadata": {
  "kernelspec": {
   "display_name": "Python 3 (ipykernel)",
   "language": "python",
   "name": "python3"
  },
  "language_info": {
   "codemirror_mode": {
    "name": "ipython",
    "version": 3
   },
   "file_extension": ".py",
   "mimetype": "text/x-python",
   "name": "python",
   "nbconvert_exporter": "python",
   "pygments_lexer": "ipython3",
   "version": "3.9.13"
  }
 },
 "nbformat": 4,
 "nbformat_minor": 5
}
